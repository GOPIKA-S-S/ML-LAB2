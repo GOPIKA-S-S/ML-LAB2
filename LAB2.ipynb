{
  "cells": [
    {
      "cell_type": "markdown",
      "metadata": {
        "id": "view-in-github",
        "colab_type": "text"
      },
      "source": [
        "<a href=\"https://colab.research.google.com/github/GOPIKA-S-S/ML-LAB2/blob/main/LAB2.ipynb\" target=\"_parent\"><img src=\"https://colab.research.google.com/assets/colab-badge.svg\" alt=\"Open In Colab\"/></a>"
      ]
    },
    {
      "cell_type": "code",
      "execution_count": 68,
      "metadata": {
        "id": "NyY7dJtSnXgw"
      },
      "outputs": [],
      "source": [
        "import pandas as pd\n",
        "import numpy as np\n",
        "import matplotlib.pyplot as plt\n",
        "from sklearn.preprocessing import LabelEncoder"
      ]
    },
    {
      "cell_type": "code",
      "execution_count": 69,
      "metadata": {
        "colab": {
          "base_uri": "https://localhost:8080/",
          "height": 206
        },
        "id": "sk_7P544qN5Y",
        "outputId": "9cbeef7d-25d2-4688-fceb-89a4076b53be"
      },
      "outputs": [
        {
          "output_type": "execute_result",
          "data": {
            "text/plain": [
              "  invoice_no customer_id  gender   age  category  quantity    price  \\\n",
              "0    I138884     C241288  Female  28.0  Clothing       5.0  1500.40   \n",
              "1    I317333     C111565    Male  21.0     Shoes       3.0  1800.51   \n",
              "2    I127801     C266599    Male  20.0  Clothing       1.0   300.08   \n",
              "3    I173702     C988172  Female  66.0     Shoes       5.0  3000.85   \n",
              "4    I337046     C189076  Female  53.0     Books       4.0    60.60   \n",
              "\n",
              "  payment_method invoice_date   shopping_mall  \n",
              "0    Credit Card     5/8/2022          Kanyon  \n",
              "1     Debit Card   12/12/2021  Forum Istanbul  \n",
              "2           Cash    9/11/2021       Metrocity  \n",
              "3    Credit Card   16/05/2021    Metropol AVM  \n",
              "4           Cash   24/10/2021          Kanyon  "
            ],
            "text/html": [
              "\n",
              "  <div id=\"df-406913dc-1621-4b29-a4fa-c74379465517\" class=\"colab-df-container\">\n",
              "    <div>\n",
              "<style scoped>\n",
              "    .dataframe tbody tr th:only-of-type {\n",
              "        vertical-align: middle;\n",
              "    }\n",
              "\n",
              "    .dataframe tbody tr th {\n",
              "        vertical-align: top;\n",
              "    }\n",
              "\n",
              "    .dataframe thead th {\n",
              "        text-align: right;\n",
              "    }\n",
              "</style>\n",
              "<table border=\"1\" class=\"dataframe\">\n",
              "  <thead>\n",
              "    <tr style=\"text-align: right;\">\n",
              "      <th></th>\n",
              "      <th>invoice_no</th>\n",
              "      <th>customer_id</th>\n",
              "      <th>gender</th>\n",
              "      <th>age</th>\n",
              "      <th>category</th>\n",
              "      <th>quantity</th>\n",
              "      <th>price</th>\n",
              "      <th>payment_method</th>\n",
              "      <th>invoice_date</th>\n",
              "      <th>shopping_mall</th>\n",
              "    </tr>\n",
              "  </thead>\n",
              "  <tbody>\n",
              "    <tr>\n",
              "      <th>0</th>\n",
              "      <td>I138884</td>\n",
              "      <td>C241288</td>\n",
              "      <td>Female</td>\n",
              "      <td>28.0</td>\n",
              "      <td>Clothing</td>\n",
              "      <td>5.0</td>\n",
              "      <td>1500.40</td>\n",
              "      <td>Credit Card</td>\n",
              "      <td>5/8/2022</td>\n",
              "      <td>Kanyon</td>\n",
              "    </tr>\n",
              "    <tr>\n",
              "      <th>1</th>\n",
              "      <td>I317333</td>\n",
              "      <td>C111565</td>\n",
              "      <td>Male</td>\n",
              "      <td>21.0</td>\n",
              "      <td>Shoes</td>\n",
              "      <td>3.0</td>\n",
              "      <td>1800.51</td>\n",
              "      <td>Debit Card</td>\n",
              "      <td>12/12/2021</td>\n",
              "      <td>Forum Istanbul</td>\n",
              "    </tr>\n",
              "    <tr>\n",
              "      <th>2</th>\n",
              "      <td>I127801</td>\n",
              "      <td>C266599</td>\n",
              "      <td>Male</td>\n",
              "      <td>20.0</td>\n",
              "      <td>Clothing</td>\n",
              "      <td>1.0</td>\n",
              "      <td>300.08</td>\n",
              "      <td>Cash</td>\n",
              "      <td>9/11/2021</td>\n",
              "      <td>Metrocity</td>\n",
              "    </tr>\n",
              "    <tr>\n",
              "      <th>3</th>\n",
              "      <td>I173702</td>\n",
              "      <td>C988172</td>\n",
              "      <td>Female</td>\n",
              "      <td>66.0</td>\n",
              "      <td>Shoes</td>\n",
              "      <td>5.0</td>\n",
              "      <td>3000.85</td>\n",
              "      <td>Credit Card</td>\n",
              "      <td>16/05/2021</td>\n",
              "      <td>Metropol AVM</td>\n",
              "    </tr>\n",
              "    <tr>\n",
              "      <th>4</th>\n",
              "      <td>I337046</td>\n",
              "      <td>C189076</td>\n",
              "      <td>Female</td>\n",
              "      <td>53.0</td>\n",
              "      <td>Books</td>\n",
              "      <td>4.0</td>\n",
              "      <td>60.60</td>\n",
              "      <td>Cash</td>\n",
              "      <td>24/10/2021</td>\n",
              "      <td>Kanyon</td>\n",
              "    </tr>\n",
              "  </tbody>\n",
              "</table>\n",
              "</div>\n",
              "    <div class=\"colab-df-buttons\">\n",
              "\n",
              "  <div class=\"colab-df-container\">\n",
              "    <button class=\"colab-df-convert\" onclick=\"convertToInteractive('df-406913dc-1621-4b29-a4fa-c74379465517')\"\n",
              "            title=\"Convert this dataframe to an interactive table.\"\n",
              "            style=\"display:none;\">\n",
              "\n",
              "  <svg xmlns=\"http://www.w3.org/2000/svg\" height=\"24px\" viewBox=\"0 -960 960 960\">\n",
              "    <path d=\"M120-120v-720h720v720H120Zm60-500h600v-160H180v160Zm220 220h160v-160H400v160Zm0 220h160v-160H400v160ZM180-400h160v-160H180v160Zm440 0h160v-160H620v160ZM180-180h160v-160H180v160Zm440 0h160v-160H620v160Z\"/>\n",
              "  </svg>\n",
              "    </button>\n",
              "\n",
              "  <style>\n",
              "    .colab-df-container {\n",
              "      display:flex;\n",
              "      gap: 12px;\n",
              "    }\n",
              "\n",
              "    .colab-df-convert {\n",
              "      background-color: #E8F0FE;\n",
              "      border: none;\n",
              "      border-radius: 50%;\n",
              "      cursor: pointer;\n",
              "      display: none;\n",
              "      fill: #1967D2;\n",
              "      height: 32px;\n",
              "      padding: 0 0 0 0;\n",
              "      width: 32px;\n",
              "    }\n",
              "\n",
              "    .colab-df-convert:hover {\n",
              "      background-color: #E2EBFA;\n",
              "      box-shadow: 0px 1px 2px rgba(60, 64, 67, 0.3), 0px 1px 3px 1px rgba(60, 64, 67, 0.15);\n",
              "      fill: #174EA6;\n",
              "    }\n",
              "\n",
              "    .colab-df-buttons div {\n",
              "      margin-bottom: 4px;\n",
              "    }\n",
              "\n",
              "    [theme=dark] .colab-df-convert {\n",
              "      background-color: #3B4455;\n",
              "      fill: #D2E3FC;\n",
              "    }\n",
              "\n",
              "    [theme=dark] .colab-df-convert:hover {\n",
              "      background-color: #434B5C;\n",
              "      box-shadow: 0px 1px 3px 1px rgba(0, 0, 0, 0.15);\n",
              "      filter: drop-shadow(0px 1px 2px rgba(0, 0, 0, 0.3));\n",
              "      fill: #FFFFFF;\n",
              "    }\n",
              "  </style>\n",
              "\n",
              "    <script>\n",
              "      const buttonEl =\n",
              "        document.querySelector('#df-406913dc-1621-4b29-a4fa-c74379465517 button.colab-df-convert');\n",
              "      buttonEl.style.display =\n",
              "        google.colab.kernel.accessAllowed ? 'block' : 'none';\n",
              "\n",
              "      async function convertToInteractive(key) {\n",
              "        const element = document.querySelector('#df-406913dc-1621-4b29-a4fa-c74379465517');\n",
              "        const dataTable =\n",
              "          await google.colab.kernel.invokeFunction('convertToInteractive',\n",
              "                                                    [key], {});\n",
              "        if (!dataTable) return;\n",
              "\n",
              "        const docLinkHtml = 'Like what you see? Visit the ' +\n",
              "          '<a target=\"_blank\" href=https://colab.research.google.com/notebooks/data_table.ipynb>data table notebook</a>'\n",
              "          + ' to learn more about interactive tables.';\n",
              "        element.innerHTML = '';\n",
              "        dataTable['output_type'] = 'display_data';\n",
              "        await google.colab.output.renderOutput(dataTable, element);\n",
              "        const docLink = document.createElement('div');\n",
              "        docLink.innerHTML = docLinkHtml;\n",
              "        element.appendChild(docLink);\n",
              "      }\n",
              "    </script>\n",
              "  </div>\n",
              "\n",
              "\n",
              "<div id=\"df-81e22ceb-0365-4df4-ab4e-27d53faceb46\">\n",
              "  <button class=\"colab-df-quickchart\" onclick=\"quickchart('df-81e22ceb-0365-4df4-ab4e-27d53faceb46')\"\n",
              "            title=\"Suggest charts.\"\n",
              "            style=\"display:none;\">\n",
              "\n",
              "<svg xmlns=\"http://www.w3.org/2000/svg\" height=\"24px\"viewBox=\"0 0 24 24\"\n",
              "     width=\"24px\">\n",
              "    <g>\n",
              "        <path d=\"M19 3H5c-1.1 0-2 .9-2 2v14c0 1.1.9 2 2 2h14c1.1 0 2-.9 2-2V5c0-1.1-.9-2-2-2zM9 17H7v-7h2v7zm4 0h-2V7h2v10zm4 0h-2v-4h2v4z\"/>\n",
              "    </g>\n",
              "</svg>\n",
              "  </button>\n",
              "\n",
              "<style>\n",
              "  .colab-df-quickchart {\n",
              "    background-color: #E8F0FE;\n",
              "    border: none;\n",
              "    border-radius: 50%;\n",
              "    cursor: pointer;\n",
              "    display: none;\n",
              "    fill: #1967D2;\n",
              "    height: 32px;\n",
              "    padding: 0 0 0 0;\n",
              "    width: 32px;\n",
              "  }\n",
              "\n",
              "  .colab-df-quickchart:hover {\n",
              "    background-color: #E2EBFA;\n",
              "    box-shadow: 0px 1px 2px rgba(60, 64, 67, 0.3), 0px 1px 3px 1px rgba(60, 64, 67, 0.15);\n",
              "    fill: #174EA6;\n",
              "  }\n",
              "\n",
              "  [theme=dark] .colab-df-quickchart {\n",
              "    background-color: #3B4455;\n",
              "    fill: #D2E3FC;\n",
              "  }\n",
              "\n",
              "  [theme=dark] .colab-df-quickchart:hover {\n",
              "    background-color: #434B5C;\n",
              "    box-shadow: 0px 1px 3px 1px rgba(0, 0, 0, 0.15);\n",
              "    filter: drop-shadow(0px 1px 2px rgba(0, 0, 0, 0.3));\n",
              "    fill: #FFFFFF;\n",
              "  }\n",
              "</style>\n",
              "\n",
              "  <script>\n",
              "    async function quickchart(key) {\n",
              "      const charts = await google.colab.kernel.invokeFunction(\n",
              "          'suggestCharts', [key], {});\n",
              "    }\n",
              "    (() => {\n",
              "      let quickchartButtonEl =\n",
              "        document.querySelector('#df-81e22ceb-0365-4df4-ab4e-27d53faceb46 button');\n",
              "      quickchartButtonEl.style.display =\n",
              "        google.colab.kernel.accessAllowed ? 'block' : 'none';\n",
              "    })();\n",
              "  </script>\n",
              "</div>\n",
              "    </div>\n",
              "  </div>\n"
            ]
          },
          "metadata": {},
          "execution_count": 69
        }
      ],
      "source": [
        "df=pd.read_csv('/content/customer_shopping_data.csv')\n",
        "df.head()"
      ]
    },
    {
      "cell_type": "code",
      "execution_count": 70,
      "metadata": {
        "colab": {
          "base_uri": "https://localhost:8080/"
        },
        "id": "RFSSNtTVJxie",
        "outputId": "fddb0030-3474-48f9-bc46-839d256de2b3"
      },
      "outputs": [
        {
          "output_type": "execute_result",
          "data": {
            "text/plain": [
              "invoice_no        0\n",
              "customer_id       0\n",
              "gender            1\n",
              "age               1\n",
              "category          1\n",
              "quantity          1\n",
              "price             1\n",
              "payment_method    1\n",
              "invoice_date      1\n",
              "shopping_mall     1\n",
              "dtype: int64"
            ]
          },
          "metadata": {},
          "execution_count": 70
        }
      ],
      "source": [
        "df.isnull().sum()"
      ]
    },
    {
      "cell_type": "code",
      "execution_count": 71,
      "metadata": {
        "id": "GYJ-V18AJ0ZO"
      },
      "outputs": [],
      "source": [
        "df['quantity'].fillna(0, inplace=True)"
      ]
    },
    {
      "cell_type": "code",
      "execution_count": 72,
      "metadata": {
        "id": "8_ejJF5rKq_V"
      },
      "outputs": [],
      "source": [
        "df['price'].fillna(0, inplace=True)"
      ]
    },
    {
      "cell_type": "code",
      "execution_count": 73,
      "metadata": {
        "id": "PLshRXBuLDCC"
      },
      "outputs": [],
      "source": [
        "df['payment_method'].fillna(0, inplace=True)"
      ]
    },
    {
      "cell_type": "code",
      "execution_count": 74,
      "metadata": {
        "id": "t5ecc_eyLMrZ"
      },
      "outputs": [],
      "source": [
        "df['invoice_date'].fillna(0, inplace=True)"
      ]
    },
    {
      "cell_type": "code",
      "execution_count": 75,
      "metadata": {
        "id": "LoE3my2qKwRf"
      },
      "outputs": [],
      "source": [
        "df['gender'].fillna(0,inplace=True)\n",
        "df['age'].fillna(0,inplace=True)\n",
        "df['category'].fillna(0,inplace=True)\n"
      ]
    },
    {
      "cell_type": "code",
      "execution_count": 76,
      "metadata": {
        "colab": {
          "base_uri": "https://localhost:8080/"
        },
        "id": "w3QB7iDtLZRy",
        "outputId": "de4b31eb-73ef-4e7d-fd38-1c1243123443"
      },
      "outputs": [
        {
          "output_type": "execute_result",
          "data": {
            "text/plain": [
              "invoice_no        0\n",
              "customer_id       0\n",
              "gender            0\n",
              "age               0\n",
              "category          0\n",
              "quantity          0\n",
              "price             0\n",
              "payment_method    0\n",
              "invoice_date      0\n",
              "shopping_mall     1\n",
              "dtype: int64"
            ]
          },
          "metadata": {},
          "execution_count": 76
        }
      ],
      "source": [
        "df.isnull().sum()"
      ]
    },
    {
      "cell_type": "code",
      "execution_count": 77,
      "metadata": {
        "colab": {
          "base_uri": "https://localhost:8080/"
        },
        "id": "qMY-0pNDxYYk",
        "outputId": "ec96ccb3-8f48-405b-c8fa-cc17ed25b0f7"
      },
      "outputs": [
        {
          "output_type": "stream",
          "name": "stdout",
          "text": [
            "        age AgeGroup\n",
            "0      28.0    26-35\n",
            "1      21.0    18-25\n",
            "2      20.0    18-25\n",
            "3      66.0      46+\n",
            "4      53.0      46+\n",
            "...     ...      ...\n",
            "13804  21.0    18-25\n",
            "13805  68.0      46+\n",
            "13806  60.0      46+\n",
            "13807  68.0      46+\n",
            "13808   0.0      <18\n",
            "\n",
            "[13809 rows x 2 columns]\n"
          ]
        }
      ],
      "source": [
        "age_bins=[0,18,25,35,45,float('inf')]\n",
        "age_labels=['<18','18-25','26-35','36-45','46+']\n",
        "df['AgeGroup']=pd.cut(df['age'],bins=age_bins,labels=age_labels,right=False)\n",
        "print(df[['age','AgeGroup']])\n"
      ]
    },
    {
      "cell_type": "code",
      "execution_count": 78,
      "metadata": {
        "colab": {
          "base_uri": "https://localhost:8080/",
          "height": 487
        },
        "id": "xweRDo0gufmc",
        "outputId": "378fc5b3-e531-4d7c-ca45-2514f533f9db"
      },
      "outputs": [
        {
          "output_type": "display_data",
          "data": {
            "text/plain": [
              "<Figure size 640x480 with 1 Axes>"
            ],
            "image/png": "[encoded data removed]"
          },
          "metadata": {}
        }
      ],
      "source": [
        "age_group_counts = df['AgeGroup'].value_counts()\n",
        "# Create a bar plot using Matplotlib\n",
        "plt.bar(age_group_counts.index, age_group_counts.values)\n",
        "plt.xlabel(\"Age Groups\")\n",
        "plt.ylabel(\"Counts\")\n",
        "plt.title(\"Distribution of Age Groups\")\n",
        "plt.xticks(rotation=45)\n",
        "# Show the plot\n",
        "plt.tight_layout()\n",
        "plt.show()\n"
      ]
    },
    {
      "cell_type": "code",
      "execution_count": 79,
      "metadata": {
        "colab": {
          "base_uri": "https://localhost:8080/"
        },
        "id": "YPcU2M3V9q4y",
        "outputId": "59bd00c9-04e0-4372-e913-c1b57ed2be97"
      },
      "outputs": [
        {
          "output_type": "stream",
          "name": "stdout",
          "text": [
            "      invoice_no customer_id   age  quantity    price payment_method  \\\n",
            "0        I138884     C241288  28.0       5.0  1500.40    Credit Card   \n",
            "1        I317333     C111565  21.0       3.0  1800.51     Debit Card   \n",
            "2        I127801     C266599  20.0       1.0   300.08           Cash   \n",
            "3        I173702     C988172  66.0       5.0  3000.85    Credit Card   \n",
            "4        I337046     C189076  53.0       4.0    60.60           Cash   \n",
            "...          ...         ...   ...       ...      ...            ...   \n",
            "13804    I379458     C266891  21.0       2.0    81.32           Cash   \n",
            "13805    I133536     C281143  68.0       3.0   900.24     Debit Card   \n",
            "13806    I298326     C256477  60.0       2.0  1200.34     Debit Card   \n",
            "13807    I125256     C376347  68.0       2.0   600.16           Cash   \n",
            "13808    I353703        C295   0.0       0.0     0.00              0   \n",
            "\n",
            "      invoice_date   shopping_mall AgeGroup  gender_0  ...  gender_Male  \\\n",
            "0         5/8/2022          Kanyon    26-35         0  ...            0   \n",
            "1       12/12/2021  Forum Istanbul    18-25         0  ...            1   \n",
            "2        9/11/2021       Metrocity    18-25         0  ...            1   \n",
            "3       16/05/2021    Metropol AVM      46+         0  ...            0   \n",
            "4       24/10/2021          Kanyon      46+         0  ...            0   \n",
            "...            ...             ...      ...       ...  ...          ...   \n",
            "13804   25/04/2022    Istinye Park    18-25         0  ...            0   \n",
            "13805   18/02/2023          Kanyon      46+         0  ...            1   \n",
            "13806    11/9/2021          Kanyon      46+         0  ...            1   \n",
            "13807   16/01/2023    Zorlu Center      46+         0  ...            1   \n",
            "13808            0             NaN      <18         1  ...            0   \n",
            "\n",
            "       category_0  category_Books  category_Clothing  category_Cosmetics  \\\n",
            "0               0               0                  1                   0   \n",
            "1               0               0                  0                   0   \n",
            "2               0               0                  1                   0   \n",
            "3               0               0                  0                   0   \n",
            "4               0               1                  0                   0   \n",
            "...           ...             ...                ...                 ...   \n",
            "13804           0               0                  0                   1   \n",
            "13805           0               0                  1                   0   \n",
            "13806           0               0                  0                   0   \n",
            "13807           0               0                  1                   0   \n",
            "13808           1               0                  0                   0   \n",
            "\n",
            "       category_Food & Beverage  category_Shoes  category_Souvenir  \\\n",
            "0                             0               0                  0   \n",
            "1                             0               1                  0   \n",
            "2                             0               0                  0   \n",
            "3                             0               1                  0   \n",
            "4                             0               0                  0   \n",
            "...                         ...             ...                ...   \n",
            "13804                         0               0                  0   \n",
            "13805                         0               0                  0   \n",
            "13806                         0               1                  0   \n",
            "13807                         0               0                  0   \n",
            "13808                         0               0                  0   \n",
            "\n",
            "       category_Technology  category_Toys  \n",
            "0                        0              0  \n",
            "1                        0              0  \n",
            "2                        0              0  \n",
            "3                        0              0  \n",
            "4                        0              0  \n",
            "...                    ...            ...  \n",
            "13804                    0              0  \n",
            "13805                    0              0  \n",
            "13806                    0              0  \n",
            "13807                    0              0  \n",
            "13808                    0              0  \n",
            "\n",
            "[13809 rows x 21 columns]\n"
          ]
        }
      ],
      "source": [
        "# Perform one-hot encoding\n",
        "df_encoded = pd.get_dummies(df, columns=[\"gender\", \"category\"])\n",
        "\n",
        "print(df_encoded)\n",
        "\n",
        "\n"
      ]
    },
    {
      "cell_type": "code",
      "execution_count": 80,
      "metadata": {
        "colab": {
          "base_uri": "https://localhost:8080/"
        },
        "id": "B9UrmjICCSxv",
        "outputId": "db0ade73-8fed-4433-ccec-bbb2467fd856"
      },
      "outputs": [
        {
          "output_type": "stream",
          "name": "stdout",
          "text": [
            "Covariance Matrix:\n",
            "[[223.15641332   0.30683408]\n",
            " [  0.30683408   2.01381892]]\n"
          ]
        }
      ],
      "source": [
        "age = df['age']\n",
        "category_columns = df[['quantity']]\n",
        "\n",
        "# Calculate the covariance matrix\n",
        "covariance_matrix = np.cov(age, category_columns, rowvar=False)\n",
        "\n",
        "print(\"Covariance Matrix:\")\n",
        "print(covariance_matrix)\n"
      ]
    },
    {
      "cell_type": "code",
      "execution_count": 81,
      "metadata": {
        "colab": {
          "base_uri": "https://localhost:8080/",
          "height": 740
        },
        "id": "XvA6CYuRD5MI",
        "outputId": "ce769071-7fdc-4f66-f9cc-cac7313bb60a"
      },
      "outputs": [
        {
          "output_type": "display_data",
          "data": {
            "text/plain": [
              "<Figure size 1000x800 with 2 Axes>"
            ],
            "image/png": "[encoded data removed]"
          },
          "metadata": {}
        }
      ],
      "source": [
        "import numpy as np\n",
        "import seaborn as sns\n",
        "import matplotlib.pyplot as plt\n",
        "\n",
        "feature_names = ['Age', 'Category']  # Replace with actual feature names\n",
        "\n",
        "# Create a heatmap using Seaborn\n",
        "plt.figure(figsize=(10, 8))\n",
        "heatmap = sns.heatmap(covariance_matrix, annot=True, fmt=\".2f\", cmap=\"coolwarm\", square=True)\n",
        "\n",
        "# Set x and y axis labels\n",
        "heatmap.set_xticklabels(feature_names, rotation=45, ha='right')\n",
        "heatmap.set_yticklabels(feature_names, rotation=0)\n",
        "\n",
        "plt.title(\"Covariance Matrix Heatmap\")\n",
        "plt.show()\n"
      ]
    },
    {
      "cell_type": "code",
      "execution_count": 82,
      "metadata": {
        "colab": {
          "base_uri": "https://localhost:8080/"
        },
        "id": "ozAjfUOOGqtH",
        "outputId": "470c50ea-ec5c-48d2-9378-2fadc7e007dc"
      },
      "outputs": [
        {
          "output_type": "stream",
          "name": "stdout",
          "text": [
            "Chi-Square Statistic: 13821.285572599818\n",
            "P-value: 0.0\n",
            "Expected-value: [[7.24165399e-05 4.89535810e-02 3.42747484e-01 1.54609313e-01\n",
            "  1.51857484e-01 1.01093490e-01 5.17054095e-02 5.17054095e-02\n",
            "  9.72554131e-02]\n",
            " [5.99246868e-01 4.05090883e+02 2.83623543e+03 1.27939206e+03\n",
            "  1.25662068e+03 8.36548628e+02 4.27862264e+02 4.27862264e+02\n",
            "  8.04788544e+02]\n",
            " [4.00680715e-01 2.70860164e+02 1.89642183e+03 8.55453328e+02\n",
            "  8.40227460e+02 5.59350279e+02 2.86086031e+02 2.86086031e+02\n",
            "  5.38114201e+02]]\n"
          ]
        }
      ],
      "source": [
        "from scipy.stats import chi2_contingency\n",
        "\n",
        "# Create a contingency table\n",
        "contingency_table = pd.crosstab(df['gender'], df['category'])\n",
        "\n",
        "# Perform the Chi-Square test\n",
        "chi2_stat, p_val, dof, expected = chi2_contingency(contingency_table)\n",
        "\n",
        "print(\"Chi-Square Statistic:\", chi2_stat)\n",
        "print(\"P-value:\", p_val)\n",
        "print(\"Expected-value:\",expected)\n"
      ]
    },
    {
      "cell_type": "code",
      "execution_count": 84,
      "metadata": {
        "colab": {
          "base_uri": "https://localhost:8080/",
          "height": 507
        },
        "id": "WokjNWkRw8vM",
        "outputId": "70d1723c-ccf9-43b0-e17b-53dfa01bbd4a"
      },
      "outputs": [
        {
          "output_type": "display_data",
          "data": {
            "text/plain": [
              "<Figure size 640x480 with 1 Axes>"
            ],
            "image/png": "[encoded data removed]"
          },
          "metadata": {}
        },
        {
          "output_type": "stream",
          "name": "stdout",
          "text": [
            "Chi-Square Statistic: 13821.285572599818\n",
            "p-value: 0.0\n"
          ]
        }
      ],
      "source": [
        "# Plot the data\n",
        "contingency_table.plot(kind=\"bar\", stacked=True)\n",
        "plt.title(\"Category Distribution by Gender\")\n",
        "plt.xlabel(\"Gender\")\n",
        "plt.ylabel(\"Count\")\n",
        "plt.xticks(rotation=0)\n",
        "plt.legend(title=\"Category\")\n",
        "plt.show()\n",
        "\n",
        "print(\"Chi-Square Statistic:\",chi2_stat)\n",
        "print(\"p-value:\", p_val)\n",
        "\n"
      ]
    },
    {
      "cell_type": "code",
      "source": [
        "from scipy.stats import ttest_ind\n",
        "male_data = df[df[\"gender\"] == \"Male\"][\"price\"]\n",
        "female_data = df[df[\"gender\"] == \"Female\"][\"price\"]\n",
        "\n",
        "# Perform independent t-test\n",
        "t_statistic, p_value = ttest_ind(male_data, female_data)\n",
        "\n",
        "print(\"T-Statistic:\", t_statistic)\n",
        "print(\"p-value:\", p_value)\n",
        "\n",
        "if p_value < 0.05:\n",
        "    print(\"Reject null hypothesis: The means are significantly different.\")\n",
        "else:\n",
        "    print(\"Fail to reject null hypothesis: The means are not significantly different.\")\n"
      ],
      "metadata": {
        "colab": {
          "base_uri": "https://localhost:8080/"
        },
        "id": "Bn_9QRVIoRh8",
        "outputId": "5c6e48ce-9a8f-4c82-f476-e9f235e4d4fe"
      },
      "execution_count": 87,
      "outputs": [
        {
          "output_type": "stream",
          "name": "stdout",
          "text": [
            "T-Statistic: 2.4673638418815544\n",
            "p-value: 0.013623238620393618\n",
            "Reject null hypothesis: The means are significantly different.\n"
          ]
        }
      ]
    },
    {
      "cell_type": "code",
      "source": [
        "# Create a box plot\n",
        "plt.boxplot([male_data, female_data], labels=[\"Male\", \"Female\"])\n",
        "plt.title(\"Purchase Amount by Gender\")\n",
        "plt.ylabel(\"Purchase Amount\")\n",
        "plt.show()\n",
        "\n",
        "print(\"T-Statistic:\", t_statistic)\n",
        "print(\"p-value:\", p_value)\n",
        "\n",
        "if p_value < 0.05:\n",
        "    print(\"Reject null hypothesis: The means are significantly different.\")\n",
        "else:\n",
        "    print(\"Fail to reject null hypothesis: The means are not significantly different.\")\n"
      ],
      "metadata": {
        "id": "vR9oqLJrrqUt",
        "outputId": "8603cd9c-8956-4442-ed8f-9393a2bde406",
        "colab": {
          "base_uri": "https://localhost:8080/",
          "height": 504
        }
      },
      "execution_count": 88,
      "outputs": [
        {
          "output_type": "display_data",
          "data": {
            "text/plain": [
              "<Figure size 640x480 with 1 Axes>"
            ],
            "image/png": "[encoded data removed]"
          },
          "metadata": {}
        },
        {
          "output_type": "stream",
          "name": "stdout",
          "text": [
            "T-Statistic: 2.4673638418815544\n",
            "p-value: 0.013623238620393618\n",
            "Reject null hypothesis: The means are significantly different.\n"
          ]
        }
      ]
    }
  ],
  "metadata": {
    "colab": {
      "provenance": [],
      "authorship_tag": "ABX9TyPtzKXzlcK3poV+O5UcMSMt",
      "include_colab_link": true
    },
    "kernelspec": {
      "display_name": "Python 3",
      "name": "python3"
    },
    "language_info": {
      "name": "python"
    }
  },
  "nbformat": 4,
  "nbformat_minor": 0
}