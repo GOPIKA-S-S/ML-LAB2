{
  "nbformat": 4,
  "nbformat_minor": 0,
  "metadata": {
    "colab": {
      "provenance": [],
      "authorship_tag": "ABX9TyNRWSboKLv3vBHirI9jOOVF",
      "include_colab_link": true
    },
    "kernelspec": {
      "name": "python3",
      "display_name": "Python 3"
    },
    "language_info": {
      "name": "python"
    }
  },
  "cells": [
    {
      "cell_type": "markdown",
      "metadata": {
        "id": "view-in-github",
        "colab_type": "text"
      },
      "source": [
        "<a href=\"https://colab.research.google.com/github/GOPIKA-S-S/ML-LAB2/blob/main/LAB2.ipynb\" target=\"_parent\"><img src=\"https://colab.research.google.com/assets/colab-badge.svg\" alt=\"Open In Colab\"/></a>"
      ]
    },
    {
      "cell_type": "code",
      "execution_count": 40,
      "metadata": {
        "id": "NyY7dJtSnXgw"
      },
      "outputs": [],
      "source": [
        "import pandas as pd\n",
        "import numpy as np\n",
        "import matplotlib.pyplot as plt\n",
        "from sklearn.preprocessing import LabelEncoder"
      ]
    },
    {
      "cell_type": "code",
      "source": [
        "df=pd.read_csv('/content/customer_shopping_data.csv')\n",
        "df.head()"
      ],
      "metadata": {
        "colab": {
          "base_uri": "https://localhost:8080/",
          "height": 206
        },
        "id": "sk_7P544qN5Y",
        "outputId": "9586727b-97fa-456b-f491-e8ef6076930c"
      },
      "execution_count": 41,
      "outputs": [
        {
          "output_type": "execute_result",
          "data": {
            "text/plain": [
              "  invoice_no customer_id  gender  age  category  quantity    price  \\\n",
              "0    I138884     C241288  Female   28  Clothing       5.0  1500.40   \n",
              "1    I317333     C111565    Male   21     Shoes       3.0  1800.51   \n",
              "2    I127801     C266599    Male   20  Clothing       1.0   300.08   \n",
              "3    I173702     C988172  Female   66     Shoes       5.0  3000.85   \n",
              "4    I337046     C189076  Female   53     Books       4.0    60.60   \n",
              "\n",
              "  payment_method invoice_date   shopping_mall  \n",
              "0    Credit Card     5/8/2022          Kanyon  \n",
              "1     Debit Card   12/12/2021  Forum Istanbul  \n",
              "2           Cash    9/11/2021       Metrocity  \n",
              "3    Credit Card   16/05/2021    Metropol AVM  \n",
              "4           Cash   24/10/2021          Kanyon  "
            ],
            "text/html": [
              "\n",
              "\n",
              "  <div id=\"df-be9de3c3-8e4e-427f-9643-4fb3d1d57e3e\">\n",
              "    <div class=\"colab-df-container\">\n",
              "      <div>\n",
              "<style scoped>\n",
              "    .dataframe tbody tr th:only-of-type {\n",
              "        vertical-align: middle;\n",
              "    }\n",
              "\n",
              "    .dataframe tbody tr th {\n",
              "        vertical-align: top;\n",
              "    }\n",
              "\n",
              "    .dataframe thead th {\n",
              "        text-align: right;\n",
              "    }\n",
              "</style>\n",
              "<table border=\"1\" class=\"dataframe\">\n",
              "  <thead>\n",
              "    <tr style=\"text-align: right;\">\n",
              "      <th></th>\n",
              "      <th>invoice_no</th>\n",
              "      <th>customer_id</th>\n",
              "      <th>gender</th>\n",
              "      <th>age</th>\n",
              "      <th>category</th>\n",
              "      <th>quantity</th>\n",
              "      <th>price</th>\n",
              "      <th>payment_method</th>\n",
              "      <th>invoice_date</th>\n",
              "      <th>shopping_mall</th>\n",
              "    </tr>\n",
              "  </thead>\n",
              "  <tbody>\n",
              "    <tr>\n",
              "      <th>0</th>\n",
              "      <td>I138884</td>\n",
              "      <td>C241288</td>\n",
              "      <td>Female</td>\n",
              "      <td>28</td>\n",
              "      <td>Clothing</td>\n",
              "      <td>5.0</td>\n",
              "      <td>1500.40</td>\n",
              "      <td>Credit Card</td>\n",
              "      <td>5/8/2022</td>\n",
              "      <td>Kanyon</td>\n",
              "    </tr>\n",
              "    <tr>\n",
              "      <th>1</th>\n",
              "      <td>I317333</td>\n",
              "      <td>C111565</td>\n",
              "      <td>Male</td>\n",
              "      <td>21</td>\n",
              "      <td>Shoes</td>\n",
              "      <td>3.0</td>\n",
              "      <td>1800.51</td>\n",
              "      <td>Debit Card</td>\n",
              "      <td>12/12/2021</td>\n",
              "      <td>Forum Istanbul</td>\n",
              "    </tr>\n",
              "    <tr>\n",
              "      <th>2</th>\n",
              "      <td>I127801</td>\n",
              "      <td>C266599</td>\n",
              "      <td>Male</td>\n",
              "      <td>20</td>\n",
              "      <td>Clothing</td>\n",
              "      <td>1.0</td>\n",
              "      <td>300.08</td>\n",
              "      <td>Cash</td>\n",
              "      <td>9/11/2021</td>\n",
              "      <td>Metrocity</td>\n",
              "    </tr>\n",
              "    <tr>\n",
              "      <th>3</th>\n",
              "      <td>I173702</td>\n",
              "      <td>C988172</td>\n",
              "      <td>Female</td>\n",
              "      <td>66</td>\n",
              "      <td>Shoes</td>\n",
              "      <td>5.0</td>\n",
              "      <td>3000.85</td>\n",
              "      <td>Credit Card</td>\n",
              "      <td>16/05/2021</td>\n",
              "      <td>Metropol AVM</td>\n",
              "    </tr>\n",
              "    <tr>\n",
              "      <th>4</th>\n",
              "      <td>I337046</td>\n",
              "      <td>C189076</td>\n",
              "      <td>Female</td>\n",
              "      <td>53</td>\n",
              "      <td>Books</td>\n",
              "      <td>4.0</td>\n",
              "      <td>60.60</td>\n",
              "      <td>Cash</td>\n",
              "      <td>24/10/2021</td>\n",
              "      <td>Kanyon</td>\n",
              "    </tr>\n",
              "  </tbody>\n",
              "</table>\n",
              "</div>\n",
              "      <button class=\"colab-df-convert\" onclick=\"convertToInteractive('df-be9de3c3-8e4e-427f-9643-4fb3d1d57e3e')\"\n",
              "              title=\"Convert this dataframe to an interactive table.\"\n",
              "              style=\"display:none;\">\n",
              "\n",
              "  <svg xmlns=\"http://www.w3.org/2000/svg\" height=\"24px\"viewBox=\"0 0 24 24\"\n",
              "       width=\"24px\">\n",
              "    <path d=\"M0 0h24v24H0V0z\" fill=\"none\"/>\n",
              "    <path d=\"M18.56 5.44l.94 2.06.94-2.06 2.06-.94-2.06-.94-.94-2.06-.94 2.06-2.06.94zm-11 1L8.5 8.5l.94-2.06 2.06-.94-2.06-.94L8.5 2.5l-.94 2.06-2.06.94zm10 10l.94 2.06.94-2.06 2.06-.94-2.06-.94-.94-2.06-.94 2.06-2.06.94z\"/><path d=\"M17.41 7.96l-1.37-1.37c-.4-.4-.92-.59-1.43-.59-.52 0-1.04.2-1.43.59L10.3 9.45l-7.72 7.72c-.78.78-.78 2.05 0 2.83L4 21.41c.39.39.9.59 1.41.59.51 0 1.02-.2 1.41-.59l7.78-7.78 2.81-2.81c.8-.78.8-2.07 0-2.86zM5.41 20L4 18.59l7.72-7.72 1.47 1.35L5.41 20z\"/>\n",
              "  </svg>\n",
              "      </button>\n",
              "\n",
              "\n",
              "\n",
              "    <div id=\"df-5b82e979-630f-48a6-92e0-efe78839f0e3\">\n",
              "      <button class=\"colab-df-quickchart\" onclick=\"quickchart('df-5b82e979-630f-48a6-92e0-efe78839f0e3')\"\n",
              "              title=\"Suggest charts.\"\n",
              "              style=\"display:none;\">\n",
              "\n",
              "<svg xmlns=\"http://www.w3.org/2000/svg\" height=\"24px\"viewBox=\"0 0 24 24\"\n",
              "     width=\"24px\">\n",
              "    <g>\n",
              "        <path d=\"M19 3H5c-1.1 0-2 .9-2 2v14c0 1.1.9 2 2 2h14c1.1 0 2-.9 2-2V5c0-1.1-.9-2-2-2zM9 17H7v-7h2v7zm4 0h-2V7h2v10zm4 0h-2v-4h2v4z\"/>\n",
              "    </g>\n",
              "</svg>\n",
              "      </button>\n",
              "    </div>\n",
              "\n",
              "<style>\n",
              "  .colab-df-quickchart {\n",
              "    background-color: #E8F0FE;\n",
              "    border: none;\n",
              "    border-radius: 50%;\n",
              "    cursor: pointer;\n",
              "    display: none;\n",
              "    fill: #1967D2;\n",
              "    height: 32px;\n",
              "    padding: 0 0 0 0;\n",
              "    width: 32px;\n",
              "  }\n",
              "\n",
              "  .colab-df-quickchart:hover {\n",
              "    background-color: #E2EBFA;\n",
              "    box-shadow: 0px 1px 2px rgba(60, 64, 67, 0.3), 0px 1px 3px 1px rgba(60, 64, 67, 0.15);\n",
              "    fill: #174EA6;\n",
              "  }\n",
              "\n",
              "  [theme=dark] .colab-df-quickchart {\n",
              "    background-color: #3B4455;\n",
              "    fill: #D2E3FC;\n",
              "  }\n",
              "\n",
              "  [theme=dark] .colab-df-quickchart:hover {\n",
              "    background-color: #434B5C;\n",
              "    box-shadow: 0px 1px 3px 1px rgba(0, 0, 0, 0.15);\n",
              "    filter: drop-shadow(0px 1px 2px rgba(0, 0, 0, 0.3));\n",
              "    fill: #FFFFFF;\n",
              "  }\n",
              "</style>\n",
              "\n",
              "    <script>\n",
              "      async function quickchart(key) {\n",
              "        const containerElement = document.querySelector('#' + key);\n",
              "        const charts = await google.colab.kernel.invokeFunction(\n",
              "            'suggestCharts', [key], {});\n",
              "      }\n",
              "    </script>\n",
              "\n",
              "      <script>\n",
              "\n",
              "function displayQuickchartButton(domScope) {\n",
              "  let quickchartButtonEl =\n",
              "    domScope.querySelector('#df-5b82e979-630f-48a6-92e0-efe78839f0e3 button.colab-df-quickchart');\n",
              "  quickchartButtonEl.style.display =\n",
              "    google.colab.kernel.accessAllowed ? 'block' : 'none';\n",
              "}\n",
              "\n",
              "        displayQuickchartButton(document);\n",
              "      </script>\n",
              "      <style>\n",
              "    .colab-df-container {\n",
              "      display:flex;\n",
              "      flex-wrap:wrap;\n",
              "      gap: 12px;\n",
              "    }\n",
              "\n",
              "    .colab-df-convert {\n",
              "      background-color: #E8F0FE;\n",
              "      border: none;\n",
              "      border-radius: 50%;\n",
              "      cursor: pointer;\n",
              "      display: none;\n",
              "      fill: #1967D2;\n",
              "      height: 32px;\n",
              "      padding: 0 0 0 0;\n",
              "      width: 32px;\n",
              "    }\n",
              "\n",
              "    .colab-df-convert:hover {\n",
              "      background-color: #E2EBFA;\n",
              "      box-shadow: 0px 1px 2px rgba(60, 64, 67, 0.3), 0px 1px 3px 1px rgba(60, 64, 67, 0.15);\n",
              "      fill: #174EA6;\n",
              "    }\n",
              "\n",
              "    [theme=dark] .colab-df-convert {\n",
              "      background-color: #3B4455;\n",
              "      fill: #D2E3FC;\n",
              "    }\n",
              "\n",
              "    [theme=dark] .colab-df-convert:hover {\n",
              "      background-color: #434B5C;\n",
              "      box-shadow: 0px 1px 3px 1px rgba(0, 0, 0, 0.15);\n",
              "      filter: drop-shadow(0px 1px 2px rgba(0, 0, 0, 0.3));\n",
              "      fill: #FFFFFF;\n",
              "    }\n",
              "  </style>\n",
              "\n",
              "      <script>\n",
              "        const buttonEl =\n",
              "          document.querySelector('#df-be9de3c3-8e4e-427f-9643-4fb3d1d57e3e button.colab-df-convert');\n",
              "        buttonEl.style.display =\n",
              "          google.colab.kernel.accessAllowed ? 'block' : 'none';\n",
              "\n",
              "        async function convertToInteractive(key) {\n",
              "          const element = document.querySelector('#df-be9de3c3-8e4e-427f-9643-4fb3d1d57e3e');\n",
              "          const dataTable =\n",
              "            await google.colab.kernel.invokeFunction('convertToInteractive',\n",
              "                                                     [key], {});\n",
              "          if (!dataTable) return;\n",
              "\n",
              "          const docLinkHtml = 'Like what you see? Visit the ' +\n",
              "            '<a target=\"_blank\" href=https://colab.research.google.com/notebooks/data_table.ipynb>data table notebook</a>'\n",
              "            + ' to learn more about interactive tables.';\n",
              "          element.innerHTML = '';\n",
              "          dataTable['output_type'] = 'display_data';\n",
              "          await google.colab.output.renderOutput(dataTable, element);\n",
              "          const docLink = document.createElement('div');\n",
              "          docLink.innerHTML = docLinkHtml;\n",
              "          element.appendChild(docLink);\n",
              "        }\n",
              "      </script>\n",
              "    </div>\n",
              "  </div>\n"
            ]
          },
          "metadata": {},
          "execution_count": 41
        }
      ]
    },
    {
      "cell_type": "code",
      "source": [
        "df.isnull().sum()"
      ],
      "metadata": {
        "colab": {
          "base_uri": "https://localhost:8080/"
        },
        "id": "RFSSNtTVJxie",
        "outputId": "e0a32b3f-db34-43e0-cdb2-02a17ff4ef52"
      },
      "execution_count": 42,
      "outputs": [
        {
          "output_type": "execute_result",
          "data": {
            "text/plain": [
              "invoice_no        0\n",
              "customer_id       0\n",
              "gender            0\n",
              "age               0\n",
              "category          0\n",
              "quantity          1\n",
              "price             1\n",
              "payment_method    1\n",
              "invoice_date      1\n",
              "shopping_mall     1\n",
              "dtype: int64"
            ]
          },
          "metadata": {},
          "execution_count": 42
        }
      ]
    },
    {
      "cell_type": "code",
      "source": [
        "df['quantity'].fillna(0, inplace=True)"
      ],
      "metadata": {
        "id": "GYJ-V18AJ0ZO"
      },
      "execution_count": 43,
      "outputs": []
    },
    {
      "cell_type": "code",
      "source": [
        "df['price'].fillna(0, inplace=True)"
      ],
      "metadata": {
        "id": "8_ejJF5rKq_V"
      },
      "execution_count": 44,
      "outputs": []
    },
    {
      "cell_type": "code",
      "source": [
        "df['invoice_date'].fillna(0, inplace=True)"
      ],
      "metadata": {
        "id": "PLshRXBuLDCC"
      },
      "execution_count": 45,
      "outputs": []
    },
    {
      "cell_type": "code",
      "source": [
        "df['invoice_date'].fillna(0, inplace=True)"
      ],
      "metadata": {
        "id": "t5ecc_eyLMrZ"
      },
      "execution_count": 46,
      "outputs": []
    },
    {
      "cell_type": "code",
      "source": [
        "df['shopping_mall'].fillna(0,inplace=True)"
      ],
      "metadata": {
        "id": "LoE3my2qKwRf"
      },
      "execution_count": 47,
      "outputs": []
    },
    {
      "cell_type": "code",
      "source": [
        "df.isnull().sum()"
      ],
      "metadata": {
        "colab": {
          "base_uri": "https://localhost:8080/"
        },
        "id": "w3QB7iDtLZRy",
        "outputId": "b419e7cd-d93b-401b-b15f-69c1e7fd22b8"
      },
      "execution_count": 48,
      "outputs": [
        {
          "output_type": "execute_result",
          "data": {
            "text/plain": [
              "invoice_no        0\n",
              "customer_id       0\n",
              "gender            0\n",
              "age               0\n",
              "category          0\n",
              "quantity          0\n",
              "price             0\n",
              "payment_method    1\n",
              "invoice_date      0\n",
              "shopping_mall     0\n",
              "dtype: int64"
            ]
          },
          "metadata": {},
          "execution_count": 48
        }
      ]
    },
    {
      "cell_type": "code",
      "source": [
        "age_bins=[0,18,25,35,45,float('inf')]\n",
        "age_labels=['<18','18-25','26-35','36-45','46+']\n",
        "df['AgeGroup']=pd.cut(df['age'],bins=age_bins,labels=age_labels,right=False)\n",
        "print(df[['age','AgeGroup']])\n"
      ],
      "metadata": {
        "colab": {
          "base_uri": "https://localhost:8080/"
        },
        "id": "qMY-0pNDxYYk",
        "outputId": "88e895be-0441-440f-fe80-3d776e12da74"
      },
      "execution_count": 49,
      "outputs": [
        {
          "output_type": "stream",
          "name": "stdout",
          "text": [
            "       age AgeGroup\n",
            "0       28    26-35\n",
            "1       21    18-25\n",
            "2       20    18-25\n",
            "3       66      46+\n",
            "4       53      46+\n",
            "...    ...      ...\n",
            "41470   33    26-35\n",
            "41471   69      46+\n",
            "41472   64      46+\n",
            "41473   57      46+\n",
            "41474   35    36-45\n",
            "\n",
            "[41475 rows x 2 columns]\n"
          ]
        }
      ]
    },
    {
      "cell_type": "code",
      "source": [
        "# Assuming your dataset has an \"age_group\" column\n",
        "age_group_counts = df['AgeGroup'].value_counts()\n",
        "# Create a bar plot using Matplotlib\n",
        "plt.bar(age_group_counts.index, age_group_counts.values)\n",
        "plt.xlabel(\"Age Groups\")\n",
        "plt.ylabel(\"Counts\")\n",
        "plt.title(\"Distribution of Age Groups\")\n",
        "plt.xticks(rotation=45)  # Rotate x-axis labels for better readability\n",
        "# Show the plot\n",
        "plt.tight_layout()\n",
        "plt.show()\n"
      ],
      "metadata": {
        "id": "xweRDo0gufmc",
        "colab": {
          "base_uri": "https://localhost:8080/",
          "height": 487
        },
        "outputId": "3eb25bcc-9ef2-4a8a-c536-d9ae6b3d65bf"
      },
      "execution_count": 50,
      "outputs": [
        {
          "output_type": "display_data",
          "data": {
            "text/plain": [
              "<Figure size 640x480 with 1 Axes>"
            ],
            "image/png": "[encoded data removed]"
          },
          "metadata": {}
        }
      ]
    },
    {
      "cell_type": "code",
      "source": [
        "from sklearn.preprocessing import LabelEncoder\n",
        "\n",
        "# Create a label encoder instance\n",
        "label_encoder = LabelEncoder()\n",
        "\n",
        "# Assuming 'gender' is a categorical column\n",
        "df['gender'] = label_encoder.fit_transform(df['gender'])\n",
        "df['category'] = label_encoder.fit_transform(df['category'])\n",
        "print(df)\n"
      ],
      "metadata": {
        "colab": {
          "base_uri": "https://localhost:8080/"
        },
        "id": "YPcU2M3V9q4y",
        "outputId": "96406fa1-9514-4cc5-f384-978e949c9efe"
      },
      "execution_count": 51,
      "outputs": [
        {
          "output_type": "stream",
          "name": "stdout",
          "text": [
            "      invoice_no customer_id  gender  age  category  quantity    price  \\\n",
            "0        I138884     C241288       0   28         1       5.0  1500.40   \n",
            "1        I317333     C111565       1   21         4       3.0  1800.51   \n",
            "2        I127801     C266599       1   20         1       1.0   300.08   \n",
            "3        I173702     C988172       0   66         4       5.0  3000.85   \n",
            "4        I337046     C189076       0   53         0       4.0    60.60   \n",
            "...          ...         ...     ...  ...       ...       ...      ...   \n",
            "41470    I302520     C172925       0   33         4       3.0  1800.51   \n",
            "41471    I348120     C793466       0   69         1       2.0   600.16   \n",
            "41472    I249313     C280986       1   64         1       1.0   300.08   \n",
            "41473    I128948     C133689       1   57         2       3.0   121.98   \n",
            "41474    I621844     C888063       0   35         6       0.0     0.00   \n",
            "\n",
            "      payment_method invoice_date   shopping_mall AgeGroup  \n",
            "0        Credit Card     5/8/2022          Kanyon    26-35  \n",
            "1         Debit Card   12/12/2021  Forum Istanbul    18-25  \n",
            "2               Cash    9/11/2021       Metrocity    18-25  \n",
            "3        Credit Card   16/05/2021    Metropol AVM      46+  \n",
            "4               Cash   24/10/2021          Kanyon      46+  \n",
            "...              ...          ...             ...      ...  \n",
            "41470     Debit Card     9/3/2021          Kanyon    26-35  \n",
            "41471    Credit Card   11/10/2022  Viaport Outlet      46+  \n",
            "41472     Debit Card   24/03/2022       Metrocity      46+  \n",
            "41473           Cash   30/04/2021  Viaport Outlet      46+  \n",
            "41474            NaN            0               0    36-45  \n",
            "\n",
            "[41475 rows x 11 columns]\n"
          ]
        }
      ]
    },
    {
      "cell_type": "code",
      "source": [
        "import numpy as np\n",
        "\n",
        "# Assuming you have columns 'age' and 'category_1', 'category_2', ... representing the numerical categories\n",
        "# Replace 'category_1', 'category_2', ... with the actual column names\n",
        "\n",
        "# Extract the columns from your data\n",
        "age = df['age']\n",
        "category_columns = df[['category']]\n",
        "\n",
        "# Calculate the covariance matrix\n",
        "covariance_matrix = np.cov(age, category_columns, rowvar=False)\n",
        "\n",
        "print(\"Covariance Matrix:\")\n",
        "print(covariance_matrix)\n"
      ],
      "metadata": {
        "colab": {
          "base_uri": "https://localhost:8080/"
        },
        "id": "B9UrmjICCSxv",
        "outputId": "456df552-4e78-448a-ebdb-7cc2585ef14d"
      },
      "execution_count": 52,
      "outputs": [
        {
          "output_type": "stream",
          "name": "stdout",
          "text": [
            "Covariance Matrix:\n",
            "[[2.25035453e+02 7.16699160e-02]\n",
            " [7.16699160e-02 5.64761054e+00]]\n"
          ]
        }
      ]
    },
    {
      "cell_type": "code",
      "source": [
        "import numpy as np\n",
        "import seaborn as sns\n",
        "import matplotlib.pyplot as plt\n",
        "\n",
        "# Assuming you have calculated the covariance matrix\n",
        "# Replace 'covariance_matrix' with the actual covariance matrix\n",
        "\n",
        "# Create custom labels for x and y axes\n",
        "feature_names = ['Age', 'Category']  # Replace with actual feature names\n",
        "\n",
        "# Create a heatmap using Seaborn\n",
        "plt.figure(figsize=(10, 8))\n",
        "heatmap = sns.heatmap(covariance_matrix, annot=True, fmt=\".2f\", cmap=\"coolwarm\", square=True)\n",
        "\n",
        "# Set x and y axis labels\n",
        "heatmap.set_xticklabels(feature_names, rotation=45, ha='right')\n",
        "heatmap.set_yticklabels(feature_names, rotation=0)\n",
        "\n",
        "plt.title(\"Covariance Matrix Heatmap\")\n",
        "plt.show()\n"
      ],
      "metadata": {
        "colab": {
          "base_uri": "https://localhost:8080/",
          "height": 740
        },
        "id": "XvA6CYuRD5MI",
        "outputId": "63766b58-c7c6-45cd-fc99-dfcd2e04cdca"
      },
      "execution_count": 53,
      "outputs": [
        {
          "output_type": "display_data",
          "data": {
            "text/plain": [
              "<Figure size 1000x800 with 2 Axes>"
            ],
            "image/png": "[encoded data removed]"
          },
          "metadata": {}
        }
      ]
    },
    {
      "cell_type": "code",
      "source": [
        "from scipy.stats import chi2_contingency\n",
        "\n",
        "# Create a contingency table\n",
        "contingency_table = pd.crosstab(df['gender'], df['category'])\n",
        "\n",
        "# Perform the Chi-Square test\n",
        "chi2_stat, p_val, dof, expected = chi2_contingency(contingency_table)\n",
        "\n",
        "print(\"Chi-Square Statistic:\", chi2_stat)\n",
        "print(\"P-value:\", p_val)\n",
        "print(\"Expected-value:\",expected)\n"
      ],
      "metadata": {
        "colab": {
          "base_uri": "https://localhost:8080/"
        },
        "id": "ozAjfUOOGqtH",
        "outputId": "010ff898-8a64-4cbb-e2d6-b93e56ae734e"
      },
      "execution_count": 61,
      "outputs": [
        {
          "output_type": "stream",
          "name": "stdout",
          "text": [
            "Chi-Square Statistic: 10.609255113020811\n",
            "P-value: 0.22483699231213453\n",
            "Expected-value: [[1.24223267e+03 8.54691911e+03 3.74998987e+03 3.69623942e+03\n",
            "  2.49163207e+03 1.25477444e+03 5.97227245e-01 1.25477444e+03\n",
            "  2.53284075e+03]\n",
            " [8.37767330e+02 5.76408089e+03 2.52901013e+03 2.49276058e+03\n",
            "  1.68036793e+03 8.46225558e+02 4.02772755e-01 8.46225558e+02\n",
            "  1.70815925e+03]]\n"
          ]
        }
      ]
    },
    {
      "cell_type": "code",
      "source": [
        "import pandas as pd\n",
        "import matplotlib.pyplot as plt\n",
        "\n",
        "feature_names = ['Age', 'Category']\n",
        "contingency_table.index = ['Male', 'Female']\n",
        "# Plot the association using a bar plot\n",
        "contingency_table.plot(kind='bar', figsize=(10, 6))\n",
        "plt.ylabel('category')\n",
        "plt.title('Association between Gender and category')\n",
        "plt.xticks(rotation=0)  # Rotate x-axis labels if needed\n",
        "plt.legend(title='category')\n",
        "plt.tight_layout()\n",
        "plt.show()\n"
      ],
      "metadata": {
        "colab": {
          "base_uri": "https://localhost:8080/",
          "height": 607
        },
        "id": "nR9xboBlZwgl",
        "outputId": "9cdb2d61-f08d-4357-fb50-bfc3146b8bba"
      },
      "execution_count": 64,
      "outputs": [
        {
          "output_type": "display_data",
          "data": {
            "text/plain": [
              "<Figure size 1000x600 with 1 Axes>"
            ],
            "image/png": "[encoded data removed]"
          },
          "metadata": {}
        }
      ]
    },
    {
      "cell_type": "code",
      "source": [],
      "metadata": {
        "id": "oRcYA4-qemHK"
      },
      "execution_count": null,
      "outputs": []
    }
  ]
}